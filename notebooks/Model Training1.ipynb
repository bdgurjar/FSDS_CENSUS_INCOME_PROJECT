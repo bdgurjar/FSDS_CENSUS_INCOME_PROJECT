{
 "cells": [
  {
   "cell_type": "code",
   "execution_count": 20,
   "metadata": {},
   "outputs": [
    {
     "data": {
      "text/html": [
       "<div>\n",
       "<style scoped>\n",
       "    .dataframe tbody tr th:only-of-type {\n",
       "        vertical-align: middle;\n",
       "    }\n",
       "\n",
       "    .dataframe tbody tr th {\n",
       "        vertical-align: top;\n",
       "    }\n",
       "\n",
       "    .dataframe thead th {\n",
       "        text-align: right;\n",
       "    }\n",
       "</style>\n",
       "<table border=\"1\" class=\"dataframe\">\n",
       "  <thead>\n",
       "    <tr style=\"text-align: right;\">\n",
       "      <th></th>\n",
       "      <th>Unnamed: 0</th>\n",
       "      <th>age</th>\n",
       "      <th>workclass</th>\n",
       "      <th>fnlwgt</th>\n",
       "      <th>education</th>\n",
       "      <th>education-num</th>\n",
       "      <th>marital-status</th>\n",
       "      <th>occupation</th>\n",
       "      <th>relationship</th>\n",
       "      <th>race</th>\n",
       "      <th>sex</th>\n",
       "      <th>capital-gain</th>\n",
       "      <th>capital-loss</th>\n",
       "      <th>hours-per-week</th>\n",
       "      <th>native-country</th>\n",
       "      <th>Income</th>\n",
       "    </tr>\n",
       "  </thead>\n",
       "  <tbody>\n",
       "    <tr>\n",
       "      <th>0</th>\n",
       "      <td>0</td>\n",
       "      <td>39</td>\n",
       "      <td>State-gov</td>\n",
       "      <td>77516</td>\n",
       "      <td>Bachelors</td>\n",
       "      <td>13</td>\n",
       "      <td>Never-married</td>\n",
       "      <td>Adm-clerical</td>\n",
       "      <td>Not-in-family</td>\n",
       "      <td>White</td>\n",
       "      <td>Male</td>\n",
       "      <td>2174</td>\n",
       "      <td>0</td>\n",
       "      <td>40</td>\n",
       "      <td>United-States</td>\n",
       "      <td>0</td>\n",
       "    </tr>\n",
       "    <tr>\n",
       "      <th>1</th>\n",
       "      <td>1</td>\n",
       "      <td>50</td>\n",
       "      <td>Self-emp-not-inc</td>\n",
       "      <td>83311</td>\n",
       "      <td>Bachelors</td>\n",
       "      <td>13</td>\n",
       "      <td>Married-civ-spouse</td>\n",
       "      <td>Exec-managerial</td>\n",
       "      <td>Husband</td>\n",
       "      <td>White</td>\n",
       "      <td>Male</td>\n",
       "      <td>0</td>\n",
       "      <td>0</td>\n",
       "      <td>13</td>\n",
       "      <td>United-States</td>\n",
       "      <td>0</td>\n",
       "    </tr>\n",
       "    <tr>\n",
       "      <th>2</th>\n",
       "      <td>2</td>\n",
       "      <td>38</td>\n",
       "      <td>Private</td>\n",
       "      <td>215646</td>\n",
       "      <td>HS-grad</td>\n",
       "      <td>9</td>\n",
       "      <td>Divorced</td>\n",
       "      <td>Handlers-cleaners</td>\n",
       "      <td>Not-in-family</td>\n",
       "      <td>White</td>\n",
       "      <td>Male</td>\n",
       "      <td>0</td>\n",
       "      <td>0</td>\n",
       "      <td>40</td>\n",
       "      <td>United-States</td>\n",
       "      <td>0</td>\n",
       "    </tr>\n",
       "    <tr>\n",
       "      <th>3</th>\n",
       "      <td>3</td>\n",
       "      <td>53</td>\n",
       "      <td>Private</td>\n",
       "      <td>234721</td>\n",
       "      <td>11th</td>\n",
       "      <td>7</td>\n",
       "      <td>Married-civ-spouse</td>\n",
       "      <td>Handlers-cleaners</td>\n",
       "      <td>Husband</td>\n",
       "      <td>Black</td>\n",
       "      <td>Male</td>\n",
       "      <td>0</td>\n",
       "      <td>0</td>\n",
       "      <td>40</td>\n",
       "      <td>United-States</td>\n",
       "      <td>0</td>\n",
       "    </tr>\n",
       "  </tbody>\n",
       "</table>\n",
       "</div>"
      ],
      "text/plain": [
       "   Unnamed: 0  age          workclass  fnlwgt   education  education-num   \n",
       "0           0   39          State-gov   77516   Bachelors             13  \\\n",
       "1           1   50   Self-emp-not-inc   83311   Bachelors             13   \n",
       "2           2   38            Private  215646     HS-grad              9   \n",
       "3           3   53            Private  234721        11th              7   \n",
       "\n",
       "        marital-status          occupation    relationship    race    sex   \n",
       "0        Never-married        Adm-clerical   Not-in-family   White   Male  \\\n",
       "1   Married-civ-spouse     Exec-managerial         Husband   White   Male   \n",
       "2             Divorced   Handlers-cleaners   Not-in-family   White   Male   \n",
       "3   Married-civ-spouse   Handlers-cleaners         Husband   Black   Male   \n",
       "\n",
       "   capital-gain  capital-loss  hours-per-week  native-country  Income  \n",
       "0          2174             0              40   United-States       0  \n",
       "1             0             0              13   United-States       0  \n",
       "2             0             0              40   United-States       0  \n",
       "3             0             0              40   United-States       0  "
      ]
     },
     "execution_count": 20,
     "metadata": {},
     "output_type": "execute_result"
    }
   ],
   "source": [
    "import numpy as np\n",
    "import pandas as pd\n",
    "import warnings\n",
    "warnings.filterwarnings('ignore')\n",
    "df2=pd.read_csv(\"./data/Census_Income_Data Set2.csv\")\n",
    "df2.head(4)"
   ]
  },
  {
   "cell_type": "code",
   "execution_count": 21,
   "metadata": {},
   "outputs": [
    {
     "data": {
      "text/plain": [
       "(32537, 16)"
      ]
     },
     "execution_count": 21,
     "metadata": {},
     "output_type": "execute_result"
    }
   ],
   "source": [
    "df2.shape"
   ]
  },
  {
   "cell_type": "code",
   "execution_count": 22,
   "metadata": {},
   "outputs": [],
   "source": [
    "# Replacing missing values by mode this values are present in categorical columns\n",
    "df2['workclass']=df2['workclass'].str.replace(\"?\",\"Private\")\n",
    "df2['occupation']=df2['occupation'].str.replace(\"?\",\"Prof-specialty\")\n",
    "df2['native-country']=df2['native-country'].str.replace(\"?\",\"United-States\")"
   ]
  },
  {
   "cell_type": "code",
   "execution_count": 23,
   "metadata": {},
   "outputs": [],
   "source": [
    "df2=df2.drop_duplicates()"
   ]
  },
  {
   "cell_type": "code",
   "execution_count": 24,
   "metadata": {},
   "outputs": [],
   "source": [
    "\n",
    "#df2['Income']=df2['Income'].str.replace(\"<=50K\",\"0\")\n",
    "#df2['Income']=df2['Income'].str.replace(\">50K\",\"1\")"
   ]
  },
  {
   "cell_type": "code",
   "execution_count": 25,
   "metadata": {},
   "outputs": [
    {
     "name": "stdout",
     "output_type": "stream",
     "text": [
      "<class 'pandas.core.frame.DataFrame'>\n",
      "RangeIndex: 32537 entries, 0 to 32536\n",
      "Data columns (total 16 columns):\n",
      " #   Column          Non-Null Count  Dtype \n",
      "---  ------          --------------  ----- \n",
      " 0   Unnamed: 0      32537 non-null  int64 \n",
      " 1   age             32537 non-null  int64 \n",
      " 2   workclass       32537 non-null  object\n",
      " 3   fnlwgt          32537 non-null  int64 \n",
      " 4   education       32537 non-null  object\n",
      " 5   education-num   32537 non-null  int64 \n",
      " 6   marital-status  32537 non-null  object\n",
      " 7   occupation      32537 non-null  object\n",
      " 8   relationship    32537 non-null  object\n",
      " 9   race            32537 non-null  object\n",
      " 10  sex             32537 non-null  object\n",
      " 11  capital-gain    32537 non-null  int64 \n",
      " 12  capital-loss    32537 non-null  int64 \n",
      " 13  hours-per-week  32537 non-null  int64 \n",
      " 14  native-country  32537 non-null  object\n",
      " 15  Income          32537 non-null  int64 \n",
      "dtypes: int64(8), object(8)\n",
      "memory usage: 4.0+ MB\n"
     ]
    }
   ],
   "source": [
    "df2.info()"
   ]
  },
  {
   "cell_type": "code",
   "execution_count": 26,
   "metadata": {},
   "outputs": [],
   "source": [
    "df2['Income']=df2['Income'].astype('int64')"
   ]
  },
  {
   "cell_type": "code",
   "execution_count": 27,
   "metadata": {},
   "outputs": [
    {
     "name": "stdout",
     "output_type": "stream",
     "text": [
      "<class 'pandas.core.frame.DataFrame'>\n",
      "RangeIndex: 32537 entries, 0 to 32536\n",
      "Data columns (total 16 columns):\n",
      " #   Column          Non-Null Count  Dtype \n",
      "---  ------          --------------  ----- \n",
      " 0   Unnamed: 0      32537 non-null  int64 \n",
      " 1   age             32537 non-null  int64 \n",
      " 2   workclass       32537 non-null  object\n",
      " 3   fnlwgt          32537 non-null  int64 \n",
      " 4   education       32537 non-null  object\n",
      " 5   education-num   32537 non-null  int64 \n",
      " 6   marital-status  32537 non-null  object\n",
      " 7   occupation      32537 non-null  object\n",
      " 8   relationship    32537 non-null  object\n",
      " 9   race            32537 non-null  object\n",
      " 10  sex             32537 non-null  object\n",
      " 11  capital-gain    32537 non-null  int64 \n",
      " 12  capital-loss    32537 non-null  int64 \n",
      " 13  hours-per-week  32537 non-null  int64 \n",
      " 14  native-country  32537 non-null  object\n",
      " 15  Income          32537 non-null  int64 \n",
      "dtypes: int64(8), object(8)\n",
      "memory usage: 4.0+ MB\n"
     ]
    }
   ],
   "source": [
    "df2.info()"
   ]
  },
  {
   "cell_type": "code",
   "execution_count": 28,
   "metadata": {},
   "outputs": [],
   "source": [
    "#df2.to_csv(\"Census_Income_DataSet2.csv\")"
   ]
  },
  {
   "cell_type": "code",
   "execution_count": 29,
   "metadata": {},
   "outputs": [],
   "source": [
    "df2['education-num']=df2['education-num'].astype('int64')"
   ]
  },
  {
   "cell_type": "code",
   "execution_count": 30,
   "metadata": {},
   "outputs": [
    {
     "name": "stdout",
     "output_type": "stream",
     "text": [
      "<class 'pandas.core.frame.DataFrame'>\n",
      "RangeIndex: 32537 entries, 0 to 32536\n",
      "Data columns (total 16 columns):\n",
      " #   Column          Non-Null Count  Dtype \n",
      "---  ------          --------------  ----- \n",
      " 0   Unnamed: 0      32537 non-null  int64 \n",
      " 1   age             32537 non-null  int64 \n",
      " 2   workclass       32537 non-null  object\n",
      " 3   fnlwgt          32537 non-null  int64 \n",
      " 4   education       32537 non-null  object\n",
      " 5   education-num   32537 non-null  int64 \n",
      " 6   marital-status  32537 non-null  object\n",
      " 7   occupation      32537 non-null  object\n",
      " 8   relationship    32537 non-null  object\n",
      " 9   race            32537 non-null  object\n",
      " 10  sex             32537 non-null  object\n",
      " 11  capital-gain    32537 non-null  int64 \n",
      " 12  capital-loss    32537 non-null  int64 \n",
      " 13  hours-per-week  32537 non-null  int64 \n",
      " 14  native-country  32537 non-null  object\n",
      " 15  Income          32537 non-null  int64 \n",
      "dtypes: int64(8), object(8)\n",
      "memory usage: 4.0+ MB\n"
     ]
    }
   ],
   "source": [
    "df2.info()"
   ]
  },
  {
   "cell_type": "code",
   "execution_count": 31,
   "metadata": {},
   "outputs": [],
   "source": [
    "## Independent and Dependent features\n",
    "X=df2.drop(labels=['Income'],axis=1)\n",
    "Y=df2[['Income']]"
   ]
  },
  {
   "cell_type": "code",
   "execution_count": 32,
   "metadata": {},
   "outputs": [],
   "source": [
    "## Define which columns should be ordinal-encoded which should be scaled\n",
    "categorical_cols = X.select_dtypes(include='object').columns\n",
    "numerical_cols = X.select_dtypes(exclude='object').columns"
   ]
  },
  {
   "cell_type": "code",
   "execution_count": 33,
   "metadata": {},
   "outputs": [],
   "source": [
    "# Define one hot encoded variables\n",
    "workclass_cat=['State-gov','Self-emp-inc','Private','Federal-gov','Local-gov','Self-emp-inc','Without-pay','Never-worked']\n",
    "education_cat=['Bachelors','HS-grad','11th','Masters','9th','Some-college','Assoc-acdm','Assoc-voc','7th-8th','Doctorate','Prof-school','5th-6th','10th','1st-4th','Preschool','12th']\n",
    "marital_status_cat=['Never-married','Married-civ-spouse','Divorced','Married-spouse-absent','Separated','Married-AF-spouse','Widowed']\n",
    "occupation_cat=['Adm-clerical','Exec-managerial','Handlers-cleaners','Prof-specialty','Other-service','Sales','Craft-repair','Transport-moving','Farming-fishing','Machine-op-inspct','Tech-support','Protective-serv','Armed-Forces','Priv-house-serv']\n",
    "relationship_cat=['Not-in-family','Husband','Wife','Own-child','Unmarried','Other-relative']\n",
    "race_cat=['White','Black','Asian-Pac-Islander','Amer-Indian-Eskimo','Other']\n",
    "sex_cat=['Male','Female']\n",
    "native_country_cat=['United-States','Cuba','Jamaica','India','Mexico','South','Puerto-Rico','Honduras','England','Canada','Germany','Iran','Philippines','Italy','Poland','Columbia','Cambodia','Thailand','Ecuador','Laos','Taiwan','Haiti','Portugal','Dominican-Republic','El-Salvador','France','Guatemala','China','Japan','Yugoslavia','Peru','Outlying-US(Guam-USVI-etc)','Scotland','Trinadad&Tobago','Greece',' Nicaragua','Vietnam','Hong','Ireland','Hungary','Holand-Netherlands']"
   ]
  },
  {
   "cell_type": "code",
   "execution_count": 34,
   "metadata": {},
   "outputs": [],
   "source": [
    "import pandas as pd\n",
    "import numpy as np\n",
    "from sklearn.impute import SimpleImputer ## HAndling Missing Values\n",
    "from sklearn.preprocessing import StandardScaler # HAndling Feature Scaling\n",
    "from sklearn.preprocessing import OneHotEncoder #  Onehotencoder Encoding\n",
    "## pipelines\n",
    "from sklearn.pipeline import Pipeline\n",
    "from sklearn.compose import ColumnTransformer"
   ]
  },
  {
   "cell_type": "code",
   "execution_count": 35,
   "metadata": {},
   "outputs": [],
   "source": [
    "## Numerical Pipeline\n",
    "num_pipeline=Pipeline(\n",
    "    steps=[\n",
    "        ('imputer',SimpleImputer(strategy='median')),\n",
    "        ('scaler',StandardScaler())\n",
    "    ]\n",
    ")\n",
    "\n",
    "## Categorical Pipeline\n",
    "cat_pipeline=Pipeline(\n",
    "    steps=[\n",
    "        ('imputer',SimpleImputer(strategy='most_frequent')),\n",
    "        ('ordinalEncoder',OneHotEncoder(sparse_output=False,handle_unknown='error')),\n",
    "        ('scaler',StandardScaler())\n",
    "    ]\n",
    "\n",
    ")\n",
    "\n",
    "preprocesser=ColumnTransformer([\n",
    "    ('num_pipeline',num_pipeline,numerical_cols),\n",
    "    ('cat_pipeline',cat_pipeline,categorical_cols)\n",
    "])"
   ]
  },
  {
   "cell_type": "code",
   "execution_count": 36,
   "metadata": {},
   "outputs": [],
   "source": [
    "# Train Test-Split\n",
    "from sklearn.model_selection import train_test_split\n",
    "\n",
    "X_train,X_test,y_train,y_test=train_test_split(X,Y,test_size=0.30,random_state=42)"
   ]
  },
  {
   "cell_type": "code",
   "execution_count": 37,
   "metadata": {},
   "outputs": [
    {
     "data": {
      "text/html": [
       "<div>\n",
       "<style scoped>\n",
       "    .dataframe tbody tr th:only-of-type {\n",
       "        vertical-align: middle;\n",
       "    }\n",
       "\n",
       "    .dataframe tbody tr th {\n",
       "        vertical-align: top;\n",
       "    }\n",
       "\n",
       "    .dataframe thead th {\n",
       "        text-align: right;\n",
       "    }\n",
       "</style>\n",
       "<table border=\"1\" class=\"dataframe\">\n",
       "  <thead>\n",
       "    <tr style=\"text-align: right;\">\n",
       "      <th></th>\n",
       "      <th>Unnamed: 0</th>\n",
       "      <th>age</th>\n",
       "      <th>workclass</th>\n",
       "      <th>fnlwgt</th>\n",
       "      <th>education</th>\n",
       "      <th>education-num</th>\n",
       "      <th>marital-status</th>\n",
       "      <th>occupation</th>\n",
       "      <th>relationship</th>\n",
       "      <th>race</th>\n",
       "      <th>sex</th>\n",
       "      <th>capital-gain</th>\n",
       "      <th>capital-loss</th>\n",
       "      <th>hours-per-week</th>\n",
       "      <th>native-country</th>\n",
       "    </tr>\n",
       "  </thead>\n",
       "  <tbody>\n",
       "    <tr>\n",
       "      <th>1216</th>\n",
       "      <td>1216</td>\n",
       "      <td>48</td>\n",
       "      <td>Self-emp-not-inc</td>\n",
       "      <td>243631</td>\n",
       "      <td>Some-college</td>\n",
       "      <td>10</td>\n",
       "      <td>Married-civ-spouse</td>\n",
       "      <td>Craft-repair</td>\n",
       "      <td>Husband</td>\n",
       "      <td>Amer-Indian-Eskimo</td>\n",
       "      <td>Male</td>\n",
       "      <td>7688</td>\n",
       "      <td>0</td>\n",
       "      <td>40</td>\n",
       "      <td>United-States</td>\n",
       "    </tr>\n",
       "    <tr>\n",
       "      <th>27941</th>\n",
       "      <td>27958</td>\n",
       "      <td>31</td>\n",
       "      <td>Private</td>\n",
       "      <td>241360</td>\n",
       "      <td>Bachelors</td>\n",
       "      <td>13</td>\n",
       "      <td>Never-married</td>\n",
       "      <td>Sales</td>\n",
       "      <td>Not-in-family</td>\n",
       "      <td>White</td>\n",
       "      <td>Male</td>\n",
       "      <td>0</td>\n",
       "      <td>0</td>\n",
       "      <td>40</td>\n",
       "      <td>United-States</td>\n",
       "    </tr>\n",
       "    <tr>\n",
       "      <th>23063</th>\n",
       "      <td>23078</td>\n",
       "      <td>50</td>\n",
       "      <td>Private</td>\n",
       "      <td>43764</td>\n",
       "      <td>Doctorate</td>\n",
       "      <td>16</td>\n",
       "      <td>Married-civ-spouse</td>\n",
       "      <td>Prof-specialty</td>\n",
       "      <td>Husband</td>\n",
       "      <td>White</td>\n",
       "      <td>Male</td>\n",
       "      <td>15024</td>\n",
       "      <td>0</td>\n",
       "      <td>50</td>\n",
       "      <td>United-States</td>\n",
       "    </tr>\n",
       "    <tr>\n",
       "      <th>19670</th>\n",
       "      <td>19679</td>\n",
       "      <td>22</td>\n",
       "      <td>Private</td>\n",
       "      <td>189888</td>\n",
       "      <td>HS-grad</td>\n",
       "      <td>9</td>\n",
       "      <td>Married-civ-spouse</td>\n",
       "      <td>Sales</td>\n",
       "      <td>Husband</td>\n",
       "      <td>White</td>\n",
       "      <td>Male</td>\n",
       "      <td>0</td>\n",
       "      <td>0</td>\n",
       "      <td>45</td>\n",
       "      <td>United-States</td>\n",
       "    </tr>\n",
       "    <tr>\n",
       "      <th>19172</th>\n",
       "      <td>19181</td>\n",
       "      <td>28</td>\n",
       "      <td>Private</td>\n",
       "      <td>107411</td>\n",
       "      <td>HS-grad</td>\n",
       "      <td>9</td>\n",
       "      <td>Never-married</td>\n",
       "      <td>Exec-managerial</td>\n",
       "      <td>Not-in-family</td>\n",
       "      <td>White</td>\n",
       "      <td>Female</td>\n",
       "      <td>0</td>\n",
       "      <td>0</td>\n",
       "      <td>45</td>\n",
       "      <td>United-States</td>\n",
       "    </tr>\n",
       "    <tr>\n",
       "      <th>...</th>\n",
       "      <td>...</td>\n",
       "      <td>...</td>\n",
       "      <td>...</td>\n",
       "      <td>...</td>\n",
       "      <td>...</td>\n",
       "      <td>...</td>\n",
       "      <td>...</td>\n",
       "      <td>...</td>\n",
       "      <td>...</td>\n",
       "      <td>...</td>\n",
       "      <td>...</td>\n",
       "      <td>...</td>\n",
       "      <td>...</td>\n",
       "      <td>...</td>\n",
       "      <td>...</td>\n",
       "    </tr>\n",
       "    <tr>\n",
       "      <th>29802</th>\n",
       "      <td>29823</td>\n",
       "      <td>38</td>\n",
       "      <td>Private</td>\n",
       "      <td>187983</td>\n",
       "      <td>Prof-school</td>\n",
       "      <td>15</td>\n",
       "      <td>Married-civ-spouse</td>\n",
       "      <td>Sales</td>\n",
       "      <td>Wife</td>\n",
       "      <td>White</td>\n",
       "      <td>Female</td>\n",
       "      <td>0</td>\n",
       "      <td>0</td>\n",
       "      <td>40</td>\n",
       "      <td>United-States</td>\n",
       "    </tr>\n",
       "    <tr>\n",
       "      <th>5390</th>\n",
       "      <td>5392</td>\n",
       "      <td>63</td>\n",
       "      <td>Private</td>\n",
       "      <td>216413</td>\n",
       "      <td>Bachelors</td>\n",
       "      <td>13</td>\n",
       "      <td>Widowed</td>\n",
       "      <td>Adm-clerical</td>\n",
       "      <td>Not-in-family</td>\n",
       "      <td>White</td>\n",
       "      <td>Female</td>\n",
       "      <td>0</td>\n",
       "      <td>0</td>\n",
       "      <td>25</td>\n",
       "      <td>United-States</td>\n",
       "    </tr>\n",
       "    <tr>\n",
       "      <th>860</th>\n",
       "      <td>860</td>\n",
       "      <td>18</td>\n",
       "      <td>Private</td>\n",
       "      <td>216284</td>\n",
       "      <td>11th</td>\n",
       "      <td>7</td>\n",
       "      <td>Never-married</td>\n",
       "      <td>Adm-clerical</td>\n",
       "      <td>Own-child</td>\n",
       "      <td>White</td>\n",
       "      <td>Female</td>\n",
       "      <td>0</td>\n",
       "      <td>0</td>\n",
       "      <td>20</td>\n",
       "      <td>United-States</td>\n",
       "    </tr>\n",
       "    <tr>\n",
       "      <th>15795</th>\n",
       "      <td>15801</td>\n",
       "      <td>34</td>\n",
       "      <td>Private</td>\n",
       "      <td>242960</td>\n",
       "      <td>Assoc-voc</td>\n",
       "      <td>11</td>\n",
       "      <td>Married-civ-spouse</td>\n",
       "      <td>Craft-repair</td>\n",
       "      <td>Husband</td>\n",
       "      <td>White</td>\n",
       "      <td>Male</td>\n",
       "      <td>0</td>\n",
       "      <td>0</td>\n",
       "      <td>50</td>\n",
       "      <td>United-States</td>\n",
       "    </tr>\n",
       "    <tr>\n",
       "      <th>23654</th>\n",
       "      <td>23669</td>\n",
       "      <td>23</td>\n",
       "      <td>Private</td>\n",
       "      <td>329925</td>\n",
       "      <td>Some-college</td>\n",
       "      <td>10</td>\n",
       "      <td>Never-married</td>\n",
       "      <td>Handlers-cleaners</td>\n",
       "      <td>Own-child</td>\n",
       "      <td>White</td>\n",
       "      <td>Male</td>\n",
       "      <td>0</td>\n",
       "      <td>0</td>\n",
       "      <td>30</td>\n",
       "      <td>United-States</td>\n",
       "    </tr>\n",
       "  </tbody>\n",
       "</table>\n",
       "<p>22775 rows × 15 columns</p>\n",
       "</div>"
      ],
      "text/plain": [
       "       Unnamed: 0  age          workclass  fnlwgt      education   \n",
       "1216         1216   48   Self-emp-not-inc  243631   Some-college  \\\n",
       "27941       27958   31            Private  241360      Bachelors   \n",
       "23063       23078   50            Private   43764      Doctorate   \n",
       "19670       19679   22            Private  189888        HS-grad   \n",
       "19172       19181   28            Private  107411        HS-grad   \n",
       "...           ...  ...                ...     ...            ...   \n",
       "29802       29823   38            Private  187983    Prof-school   \n",
       "5390         5392   63            Private  216413      Bachelors   \n",
       "860           860   18            Private  216284           11th   \n",
       "15795       15801   34            Private  242960      Assoc-voc   \n",
       "23654       23669   23            Private  329925   Some-college   \n",
       "\n",
       "       education-num       marital-status          occupation    relationship   \n",
       "1216              10   Married-civ-spouse        Craft-repair         Husband  \\\n",
       "27941             13        Never-married               Sales   Not-in-family   \n",
       "23063             16   Married-civ-spouse      Prof-specialty         Husband   \n",
       "19670              9   Married-civ-spouse               Sales         Husband   \n",
       "19172              9        Never-married     Exec-managerial   Not-in-family   \n",
       "...              ...                  ...                 ...             ...   \n",
       "29802             15   Married-civ-spouse               Sales            Wife   \n",
       "5390              13              Widowed        Adm-clerical   Not-in-family   \n",
       "860                7        Never-married        Adm-clerical       Own-child   \n",
       "15795             11   Married-civ-spouse        Craft-repair         Husband   \n",
       "23654             10        Never-married   Handlers-cleaners       Own-child   \n",
       "\n",
       "                      race      sex  capital-gain  capital-loss   \n",
       "1216    Amer-Indian-Eskimo     Male          7688             0  \\\n",
       "27941                White     Male             0             0   \n",
       "23063                White     Male         15024             0   \n",
       "19670                White     Male             0             0   \n",
       "19172                White   Female             0             0   \n",
       "...                    ...      ...           ...           ...   \n",
       "29802                White   Female             0             0   \n",
       "5390                 White   Female             0             0   \n",
       "860                  White   Female             0             0   \n",
       "15795                White     Male             0             0   \n",
       "23654                White     Male             0             0   \n",
       "\n",
       "       hours-per-week  native-country  \n",
       "1216               40   United-States  \n",
       "27941              40   United-States  \n",
       "23063              50   United-States  \n",
       "19670              45   United-States  \n",
       "19172              45   United-States  \n",
       "...               ...             ...  \n",
       "29802              40   United-States  \n",
       "5390               25   United-States  \n",
       "860                20   United-States  \n",
       "15795              50   United-States  \n",
       "23654              30   United-States  \n",
       "\n",
       "[22775 rows x 15 columns]"
      ]
     },
     "execution_count": 37,
     "metadata": {},
     "output_type": "execute_result"
    }
   ],
   "source": [
    "X_train"
   ]
  },
  {
   "cell_type": "code",
   "execution_count": 38,
   "metadata": {},
   "outputs": [
    {
     "data": {
      "text/html": [
       "<div>\n",
       "<style scoped>\n",
       "    .dataframe tbody tr th:only-of-type {\n",
       "        vertical-align: middle;\n",
       "    }\n",
       "\n",
       "    .dataframe tbody tr th {\n",
       "        vertical-align: top;\n",
       "    }\n",
       "\n",
       "    .dataframe thead th {\n",
       "        text-align: right;\n",
       "    }\n",
       "</style>\n",
       "<table border=\"1\" class=\"dataframe\">\n",
       "  <thead>\n",
       "    <tr style=\"text-align: right;\">\n",
       "      <th></th>\n",
       "      <th>num_pipeline__Unnamed: 0</th>\n",
       "      <th>num_pipeline__age</th>\n",
       "      <th>num_pipeline__fnlwgt</th>\n",
       "      <th>num_pipeline__education-num</th>\n",
       "      <th>num_pipeline__capital-gain</th>\n",
       "      <th>num_pipeline__capital-loss</th>\n",
       "      <th>num_pipeline__hours-per-week</th>\n",
       "      <th>cat_pipeline__workclass_ Federal-gov</th>\n",
       "      <th>cat_pipeline__workclass_ Local-gov</th>\n",
       "      <th>cat_pipeline__workclass_ Never-worked</th>\n",
       "      <th>...</th>\n",
       "      <th>cat_pipeline__native-country_ Portugal</th>\n",
       "      <th>cat_pipeline__native-country_ Puerto-Rico</th>\n",
       "      <th>cat_pipeline__native-country_ Scotland</th>\n",
       "      <th>cat_pipeline__native-country_ South</th>\n",
       "      <th>cat_pipeline__native-country_ Taiwan</th>\n",
       "      <th>cat_pipeline__native-country_ Thailand</th>\n",
       "      <th>cat_pipeline__native-country_ Trinadad&amp;Tobago</th>\n",
       "      <th>cat_pipeline__native-country_ United-States</th>\n",
       "      <th>cat_pipeline__native-country_ Vietnam</th>\n",
       "      <th>cat_pipeline__native-country_ Yugoslavia</th>\n",
       "    </tr>\n",
       "  </thead>\n",
       "  <tbody>\n",
       "    <tr>\n",
       "      <th>0</th>\n",
       "      <td>-1.603857</td>\n",
       "      <td>0.693443</td>\n",
       "      <td>0.503319</td>\n",
       "      <td>-0.033365</td>\n",
       "      <td>0.917418</td>\n",
       "      <td>-0.219029</td>\n",
       "      <td>-0.033058</td>\n",
       "      <td>-0.174097</td>\n",
       "      <td>-0.259894</td>\n",
       "      <td>-0.013254</td>\n",
       "      <td>...</td>\n",
       "      <td>-0.03315</td>\n",
       "      <td>-0.061206</td>\n",
       "      <td>-0.018745</td>\n",
       "      <td>-0.049201</td>\n",
       "      <td>-0.041945</td>\n",
       "      <td>-0.023898</td>\n",
       "      <td>-0.023898</td>\n",
       "      <td>0.310528</td>\n",
       "      <td>-0.045475</td>\n",
       "      <td>-0.021982</td>\n",
       "    </tr>\n",
       "    <tr>\n",
       "      <th>1</th>\n",
       "      <td>1.242129</td>\n",
       "      <td>-0.555208</td>\n",
       "      <td>0.481795</td>\n",
       "      <td>1.135080</td>\n",
       "      <td>-0.142880</td>\n",
       "      <td>-0.219029</td>\n",
       "      <td>-0.033058</td>\n",
       "      <td>-0.174097</td>\n",
       "      <td>-0.259894</td>\n",
       "      <td>-0.013254</td>\n",
       "      <td>...</td>\n",
       "      <td>-0.03315</td>\n",
       "      <td>-0.061206</td>\n",
       "      <td>-0.018745</td>\n",
       "      <td>-0.049201</td>\n",
       "      <td>-0.041945</td>\n",
       "      <td>-0.023898</td>\n",
       "      <td>-0.023898</td>\n",
       "      <td>0.310528</td>\n",
       "      <td>-0.045475</td>\n",
       "      <td>-0.021982</td>\n",
       "    </tr>\n",
       "    <tr>\n",
       "      <th>2</th>\n",
       "      <td>0.722781</td>\n",
       "      <td>0.840343</td>\n",
       "      <td>-1.391011</td>\n",
       "      <td>2.303525</td>\n",
       "      <td>1.929169</td>\n",
       "      <td>-0.219029</td>\n",
       "      <td>0.777388</td>\n",
       "      <td>-0.174097</td>\n",
       "      <td>-0.259894</td>\n",
       "      <td>-0.013254</td>\n",
       "      <td>...</td>\n",
       "      <td>-0.03315</td>\n",
       "      <td>-0.061206</td>\n",
       "      <td>-0.018745</td>\n",
       "      <td>-0.049201</td>\n",
       "      <td>-0.041945</td>\n",
       "      <td>-0.023898</td>\n",
       "      <td>-0.023898</td>\n",
       "      <td>0.310528</td>\n",
       "      <td>-0.045475</td>\n",
       "      <td>-0.021982</td>\n",
       "    </tr>\n",
       "    <tr>\n",
       "      <th>3</th>\n",
       "      <td>0.361046</td>\n",
       "      <td>-1.216259</td>\n",
       "      <td>-0.006054</td>\n",
       "      <td>-0.422846</td>\n",
       "      <td>-0.142880</td>\n",
       "      <td>-0.219029</td>\n",
       "      <td>0.372165</td>\n",
       "      <td>-0.174097</td>\n",
       "      <td>-0.259894</td>\n",
       "      <td>-0.013254</td>\n",
       "      <td>...</td>\n",
       "      <td>-0.03315</td>\n",
       "      <td>-0.061206</td>\n",
       "      <td>-0.018745</td>\n",
       "      <td>-0.049201</td>\n",
       "      <td>-0.041945</td>\n",
       "      <td>-0.023898</td>\n",
       "      <td>-0.023898</td>\n",
       "      <td>0.310528</td>\n",
       "      <td>-0.045475</td>\n",
       "      <td>-0.021982</td>\n",
       "    </tr>\n",
       "    <tr>\n",
       "      <th>4</th>\n",
       "      <td>0.308047</td>\n",
       "      <td>-0.775558</td>\n",
       "      <td>-0.787768</td>\n",
       "      <td>-0.422846</td>\n",
       "      <td>-0.142880</td>\n",
       "      <td>-0.219029</td>\n",
       "      <td>0.372165</td>\n",
       "      <td>-0.174097</td>\n",
       "      <td>-0.259894</td>\n",
       "      <td>-0.013254</td>\n",
       "      <td>...</td>\n",
       "      <td>-0.03315</td>\n",
       "      <td>-0.061206</td>\n",
       "      <td>-0.018745</td>\n",
       "      <td>-0.049201</td>\n",
       "      <td>-0.041945</td>\n",
       "      <td>-0.023898</td>\n",
       "      <td>-0.023898</td>\n",
       "      <td>0.310528</td>\n",
       "      <td>-0.045475</td>\n",
       "      <td>-0.021982</td>\n",
       "    </tr>\n",
       "  </tbody>\n",
       "</table>\n",
       "<p>5 rows × 106 columns</p>\n",
       "</div>"
      ],
      "text/plain": [
       "   num_pipeline__Unnamed: 0  num_pipeline__age  num_pipeline__fnlwgt   \n",
       "0                 -1.603857           0.693443              0.503319  \\\n",
       "1                  1.242129          -0.555208              0.481795   \n",
       "2                  0.722781           0.840343             -1.391011   \n",
       "3                  0.361046          -1.216259             -0.006054   \n",
       "4                  0.308047          -0.775558             -0.787768   \n",
       "\n",
       "   num_pipeline__education-num  num_pipeline__capital-gain   \n",
       "0                    -0.033365                    0.917418  \\\n",
       "1                     1.135080                   -0.142880   \n",
       "2                     2.303525                    1.929169   \n",
       "3                    -0.422846                   -0.142880   \n",
       "4                    -0.422846                   -0.142880   \n",
       "\n",
       "   num_pipeline__capital-loss  num_pipeline__hours-per-week   \n",
       "0                   -0.219029                     -0.033058  \\\n",
       "1                   -0.219029                     -0.033058   \n",
       "2                   -0.219029                      0.777388   \n",
       "3                   -0.219029                      0.372165   \n",
       "4                   -0.219029                      0.372165   \n",
       "\n",
       "   cat_pipeline__workclass_ Federal-gov  cat_pipeline__workclass_ Local-gov   \n",
       "0                             -0.174097                           -0.259894  \\\n",
       "1                             -0.174097                           -0.259894   \n",
       "2                             -0.174097                           -0.259894   \n",
       "3                             -0.174097                           -0.259894   \n",
       "4                             -0.174097                           -0.259894   \n",
       "\n",
       "   cat_pipeline__workclass_ Never-worked  ...   \n",
       "0                              -0.013254  ...  \\\n",
       "1                              -0.013254  ...   \n",
       "2                              -0.013254  ...   \n",
       "3                              -0.013254  ...   \n",
       "4                              -0.013254  ...   \n",
       "\n",
       "   cat_pipeline__native-country_ Portugal   \n",
       "0                                -0.03315  \\\n",
       "1                                -0.03315   \n",
       "2                                -0.03315   \n",
       "3                                -0.03315   \n",
       "4                                -0.03315   \n",
       "\n",
       "   cat_pipeline__native-country_ Puerto-Rico   \n",
       "0                                  -0.061206  \\\n",
       "1                                  -0.061206   \n",
       "2                                  -0.061206   \n",
       "3                                  -0.061206   \n",
       "4                                  -0.061206   \n",
       "\n",
       "   cat_pipeline__native-country_ Scotland   \n",
       "0                               -0.018745  \\\n",
       "1                               -0.018745   \n",
       "2                               -0.018745   \n",
       "3                               -0.018745   \n",
       "4                               -0.018745   \n",
       "\n",
       "   cat_pipeline__native-country_ South  cat_pipeline__native-country_ Taiwan   \n",
       "0                            -0.049201                             -0.041945  \\\n",
       "1                            -0.049201                             -0.041945   \n",
       "2                            -0.049201                             -0.041945   \n",
       "3                            -0.049201                             -0.041945   \n",
       "4                            -0.049201                             -0.041945   \n",
       "\n",
       "   cat_pipeline__native-country_ Thailand   \n",
       "0                               -0.023898  \\\n",
       "1                               -0.023898   \n",
       "2                               -0.023898   \n",
       "3                               -0.023898   \n",
       "4                               -0.023898   \n",
       "\n",
       "   cat_pipeline__native-country_ Trinadad&Tobago   \n",
       "0                                      -0.023898  \\\n",
       "1                                      -0.023898   \n",
       "2                                      -0.023898   \n",
       "3                                      -0.023898   \n",
       "4                                      -0.023898   \n",
       "\n",
       "   cat_pipeline__native-country_ United-States   \n",
       "0                                     0.310528  \\\n",
       "1                                     0.310528   \n",
       "2                                     0.310528   \n",
       "3                                     0.310528   \n",
       "4                                     0.310528   \n",
       "\n",
       "   cat_pipeline__native-country_ Vietnam   \n",
       "0                              -0.045475  \\\n",
       "1                              -0.045475   \n",
       "2                              -0.045475   \n",
       "3                              -0.045475   \n",
       "4                              -0.045475   \n",
       "\n",
       "   cat_pipeline__native-country_ Yugoslavia  \n",
       "0                                 -0.021982  \n",
       "1                                 -0.021982  \n",
       "2                                 -0.021982  \n",
       "3                                 -0.021982  \n",
       "4                                 -0.021982  \n",
       "\n",
       "[5 rows x 106 columns]"
      ]
     },
     "execution_count": 38,
     "metadata": {},
     "output_type": "execute_result"
    }
   ],
   "source": [
    "X_train=pd.DataFrame(preprocesser.fit_transform(X_train),columns=preprocesser.get_feature_names_out())\n",
    "X_test=pd.DataFrame(preprocesser.transform(X_test),columns=preprocesser.get_feature_names_out())\n",
    "X_train.head()"
   ]
  },
  {
   "cell_type": "code",
   "execution_count": 39,
   "metadata": {},
   "outputs": [],
   "source": [
    "from sklearn.linear_model import LogisticRegression\n",
    "from sklearn.tree import DecisionTreeClassifier\n",
    "from sklearn.model_selection import GridSearchCV\n",
    "from sklearn.metrics import accuracy_score,classification_report,confusion_matrix\n",
    "from sklearn.metrics import log_loss"
   ]
  },
  {
   "cell_type": "code",
   "execution_count": 40,
   "metadata": {},
   "outputs": [],
   "source": [
    "log_model=LogisticRegression()\n",
    "dec_model=DecisionTreeClassifier()"
   ]
  },
  {
   "cell_type": "code",
   "execution_count": 41,
   "metadata": {},
   "outputs": [
    {
     "data": {
      "text/html": [
       "<style>#sk-container-id-1 {color: black;background-color: white;}#sk-container-id-1 pre{padding: 0;}#sk-container-id-1 div.sk-toggleable {background-color: white;}#sk-container-id-1 label.sk-toggleable__label {cursor: pointer;display: block;width: 100%;margin-bottom: 0;padding: 0.3em;box-sizing: border-box;text-align: center;}#sk-container-id-1 label.sk-toggleable__label-arrow:before {content: \"▸\";float: left;margin-right: 0.25em;color: #696969;}#sk-container-id-1 label.sk-toggleable__label-arrow:hover:before {color: black;}#sk-container-id-1 div.sk-estimator:hover label.sk-toggleable__label-arrow:before {color: black;}#sk-container-id-1 div.sk-toggleable__content {max-height: 0;max-width: 0;overflow: hidden;text-align: left;background-color: #f0f8ff;}#sk-container-id-1 div.sk-toggleable__content pre {margin: 0.2em;color: black;border-radius: 0.25em;background-color: #f0f8ff;}#sk-container-id-1 input.sk-toggleable__control:checked~div.sk-toggleable__content {max-height: 200px;max-width: 100%;overflow: auto;}#sk-container-id-1 input.sk-toggleable__control:checked~label.sk-toggleable__label-arrow:before {content: \"▾\";}#sk-container-id-1 div.sk-estimator input.sk-toggleable__control:checked~label.sk-toggleable__label {background-color: #d4ebff;}#sk-container-id-1 div.sk-label input.sk-toggleable__control:checked~label.sk-toggleable__label {background-color: #d4ebff;}#sk-container-id-1 input.sk-hidden--visually {border: 0;clip: rect(1px 1px 1px 1px);clip: rect(1px, 1px, 1px, 1px);height: 1px;margin: -1px;overflow: hidden;padding: 0;position: absolute;width: 1px;}#sk-container-id-1 div.sk-estimator {font-family: monospace;background-color: #f0f8ff;border: 1px dotted black;border-radius: 0.25em;box-sizing: border-box;margin-bottom: 0.5em;}#sk-container-id-1 div.sk-estimator:hover {background-color: #d4ebff;}#sk-container-id-1 div.sk-parallel-item::after {content: \"\";width: 100%;border-bottom: 1px solid gray;flex-grow: 1;}#sk-container-id-1 div.sk-label:hover label.sk-toggleable__label {background-color: #d4ebff;}#sk-container-id-1 div.sk-serial::before {content: \"\";position: absolute;border-left: 1px solid gray;box-sizing: border-box;top: 0;bottom: 0;left: 50%;z-index: 0;}#sk-container-id-1 div.sk-serial {display: flex;flex-direction: column;align-items: center;background-color: white;padding-right: 0.2em;padding-left: 0.2em;position: relative;}#sk-container-id-1 div.sk-item {position: relative;z-index: 1;}#sk-container-id-1 div.sk-parallel {display: flex;align-items: stretch;justify-content: center;background-color: white;position: relative;}#sk-container-id-1 div.sk-item::before, #sk-container-id-1 div.sk-parallel-item::before {content: \"\";position: absolute;border-left: 1px solid gray;box-sizing: border-box;top: 0;bottom: 0;left: 50%;z-index: -1;}#sk-container-id-1 div.sk-parallel-item {display: flex;flex-direction: column;z-index: 1;position: relative;background-color: white;}#sk-container-id-1 div.sk-parallel-item:first-child::after {align-self: flex-end;width: 50%;}#sk-container-id-1 div.sk-parallel-item:last-child::after {align-self: flex-start;width: 50%;}#sk-container-id-1 div.sk-parallel-item:only-child::after {width: 0;}#sk-container-id-1 div.sk-dashed-wrapped {border: 1px dashed gray;margin: 0 0.4em 0.5em 0.4em;box-sizing: border-box;padding-bottom: 0.4em;background-color: white;}#sk-container-id-1 div.sk-label label {font-family: monospace;font-weight: bold;display: inline-block;line-height: 1.2em;}#sk-container-id-1 div.sk-label-container {text-align: center;}#sk-container-id-1 div.sk-container {/* jupyter's `normalize.less` sets `[hidden] { display: none; }` but bootstrap.min.css set `[hidden] { display: none !important; }` so we also need the `!important` here to be able to override the default hidden behavior on the sphinx rendered scikit-learn.org. See: https://github.com/scikit-learn/scikit-learn/issues/21755 */display: inline-block !important;position: relative;}#sk-container-id-1 div.sk-text-repr-fallback {display: none;}</style><div id=\"sk-container-id-1\" class=\"sk-top-container\"><div class=\"sk-text-repr-fallback\"><pre>LogisticRegression()</pre><b>In a Jupyter environment, please rerun this cell to show the HTML representation or trust the notebook. <br />On GitHub, the HTML representation is unable to render, please try loading this page with nbviewer.org.</b></div><div class=\"sk-container\" hidden><div class=\"sk-item\"><div class=\"sk-estimator sk-toggleable\"><input class=\"sk-toggleable__control sk-hidden--visually\" id=\"sk-estimator-id-1\" type=\"checkbox\" checked><label for=\"sk-estimator-id-1\" class=\"sk-toggleable__label sk-toggleable__label-arrow\">LogisticRegression</label><div class=\"sk-toggleable__content\"><pre>LogisticRegression()</pre></div></div></div></div></div>"
      ],
      "text/plain": [
       "LogisticRegression()"
      ]
     },
     "execution_count": 41,
     "metadata": {},
     "output_type": "execute_result"
    }
   ],
   "source": [
    "log_model.fit(X_train,y_train)"
   ]
  },
  {
   "cell_type": "code",
   "execution_count": 42,
   "metadata": {},
   "outputs": [
    {
     "data": {
      "text/plain": [
       "array([0, 0, 0, ..., 0, 0, 0], dtype=int64)"
      ]
     },
     "execution_count": 42,
     "metadata": {},
     "output_type": "execute_result"
    }
   ],
   "source": [
    "log_model.predict(X_test)"
   ]
  },
  {
   "cell_type": "code",
   "execution_count": 43,
   "metadata": {},
   "outputs": [
    {
     "data": {
      "text/plain": [
       "0.8517233809001098"
      ]
     },
     "execution_count": 43,
     "metadata": {},
     "output_type": "execute_result"
    }
   ],
   "source": [
    "log_model.score(X_train,y_train)"
   ]
  },
  {
   "cell_type": "code",
   "execution_count": 44,
   "metadata": {},
   "outputs": [
    {
     "data": {
      "text/html": [
       "<style>#sk-container-id-2 {color: black;background-color: white;}#sk-container-id-2 pre{padding: 0;}#sk-container-id-2 div.sk-toggleable {background-color: white;}#sk-container-id-2 label.sk-toggleable__label {cursor: pointer;display: block;width: 100%;margin-bottom: 0;padding: 0.3em;box-sizing: border-box;text-align: center;}#sk-container-id-2 label.sk-toggleable__label-arrow:before {content: \"▸\";float: left;margin-right: 0.25em;color: #696969;}#sk-container-id-2 label.sk-toggleable__label-arrow:hover:before {color: black;}#sk-container-id-2 div.sk-estimator:hover label.sk-toggleable__label-arrow:before {color: black;}#sk-container-id-2 div.sk-toggleable__content {max-height: 0;max-width: 0;overflow: hidden;text-align: left;background-color: #f0f8ff;}#sk-container-id-2 div.sk-toggleable__content pre {margin: 0.2em;color: black;border-radius: 0.25em;background-color: #f0f8ff;}#sk-container-id-2 input.sk-toggleable__control:checked~div.sk-toggleable__content {max-height: 200px;max-width: 100%;overflow: auto;}#sk-container-id-2 input.sk-toggleable__control:checked~label.sk-toggleable__label-arrow:before {content: \"▾\";}#sk-container-id-2 div.sk-estimator input.sk-toggleable__control:checked~label.sk-toggleable__label {background-color: #d4ebff;}#sk-container-id-2 div.sk-label input.sk-toggleable__control:checked~label.sk-toggleable__label {background-color: #d4ebff;}#sk-container-id-2 input.sk-hidden--visually {border: 0;clip: rect(1px 1px 1px 1px);clip: rect(1px, 1px, 1px, 1px);height: 1px;margin: -1px;overflow: hidden;padding: 0;position: absolute;width: 1px;}#sk-container-id-2 div.sk-estimator {font-family: monospace;background-color: #f0f8ff;border: 1px dotted black;border-radius: 0.25em;box-sizing: border-box;margin-bottom: 0.5em;}#sk-container-id-2 div.sk-estimator:hover {background-color: #d4ebff;}#sk-container-id-2 div.sk-parallel-item::after {content: \"\";width: 100%;border-bottom: 1px solid gray;flex-grow: 1;}#sk-container-id-2 div.sk-label:hover label.sk-toggleable__label {background-color: #d4ebff;}#sk-container-id-2 div.sk-serial::before {content: \"\";position: absolute;border-left: 1px solid gray;box-sizing: border-box;top: 0;bottom: 0;left: 50%;z-index: 0;}#sk-container-id-2 div.sk-serial {display: flex;flex-direction: column;align-items: center;background-color: white;padding-right: 0.2em;padding-left: 0.2em;position: relative;}#sk-container-id-2 div.sk-item {position: relative;z-index: 1;}#sk-container-id-2 div.sk-parallel {display: flex;align-items: stretch;justify-content: center;background-color: white;position: relative;}#sk-container-id-2 div.sk-item::before, #sk-container-id-2 div.sk-parallel-item::before {content: \"\";position: absolute;border-left: 1px solid gray;box-sizing: border-box;top: 0;bottom: 0;left: 50%;z-index: -1;}#sk-container-id-2 div.sk-parallel-item {display: flex;flex-direction: column;z-index: 1;position: relative;background-color: white;}#sk-container-id-2 div.sk-parallel-item:first-child::after {align-self: flex-end;width: 50%;}#sk-container-id-2 div.sk-parallel-item:last-child::after {align-self: flex-start;width: 50%;}#sk-container-id-2 div.sk-parallel-item:only-child::after {width: 0;}#sk-container-id-2 div.sk-dashed-wrapped {border: 1px dashed gray;margin: 0 0.4em 0.5em 0.4em;box-sizing: border-box;padding-bottom: 0.4em;background-color: white;}#sk-container-id-2 div.sk-label label {font-family: monospace;font-weight: bold;display: inline-block;line-height: 1.2em;}#sk-container-id-2 div.sk-label-container {text-align: center;}#sk-container-id-2 div.sk-container {/* jupyter's `normalize.less` sets `[hidden] { display: none; }` but bootstrap.min.css set `[hidden] { display: none !important; }` so we also need the `!important` here to be able to override the default hidden behavior on the sphinx rendered scikit-learn.org. See: https://github.com/scikit-learn/scikit-learn/issues/21755 */display: inline-block !important;position: relative;}#sk-container-id-2 div.sk-text-repr-fallback {display: none;}</style><div id=\"sk-container-id-2\" class=\"sk-top-container\"><div class=\"sk-text-repr-fallback\"><pre>DecisionTreeClassifier()</pre><b>In a Jupyter environment, please rerun this cell to show the HTML representation or trust the notebook. <br />On GitHub, the HTML representation is unable to render, please try loading this page with nbviewer.org.</b></div><div class=\"sk-container\" hidden><div class=\"sk-item\"><div class=\"sk-estimator sk-toggleable\"><input class=\"sk-toggleable__control sk-hidden--visually\" id=\"sk-estimator-id-2\" type=\"checkbox\" checked><label for=\"sk-estimator-id-2\" class=\"sk-toggleable__label sk-toggleable__label-arrow\">DecisionTreeClassifier</label><div class=\"sk-toggleable__content\"><pre>DecisionTreeClassifier()</pre></div></div></div></div></div>"
      ],
      "text/plain": [
       "DecisionTreeClassifier()"
      ]
     },
     "execution_count": 44,
     "metadata": {},
     "output_type": "execute_result"
    }
   ],
   "source": [
    "dec_model.fit(X_train,y_train)"
   ]
  },
  {
   "cell_type": "code",
   "execution_count": 45,
   "metadata": {},
   "outputs": [
    {
     "data": {
      "text/plain": [
       "1.0"
      ]
     },
     "execution_count": 45,
     "metadata": {},
     "output_type": "execute_result"
    }
   ],
   "source": [
    "dec_model.score(X_train,y_train)"
   ]
  },
  {
   "cell_type": "code",
   "execution_count": 46,
   "metadata": {},
   "outputs": [
    {
     "data": {
      "text/plain": [
       "array([[ 4.12608004e-03,  2.92120662e-01,  5.81520469e-02,\n",
       "         3.93988782e-01,  2.30852515e+00,  2.81789181e-01,\n",
       "         3.70945335e-01,  1.03639171e-01,  1.28433606e-02,\n",
       "        -8.00931185e-02,  1.96233939e-02,  5.81574672e-02,\n",
       "        -1.20127643e-01, -2.22360321e-02, -1.24306199e-01,\n",
       "        -8.26277181e-02, -8.78545653e-02, -4.32844392e-02,\n",
       "        -1.92569657e-02, -9.89999478e-02, -8.40220434e-02,\n",
       "        -7.62587665e-02, -2.47469037e-02, -5.15064604e-04,\n",
       "         1.46810863e-01,  1.33419921e-01, -8.08937362e-02,\n",
       "         1.68870415e-01, -4.65370634e-01,  1.46651113e-01,\n",
       "         5.73532438e-03, -1.81760575e-01,  5.46044867e-02,\n",
       "         6.49061770e-01, -5.47870338e-02, -4.81450322e-01,\n",
       "        -1.24184409e-01, -4.82302771e-02, -4.66043694e-03,\n",
       "        -1.81108387e-02,  3.46042819e-02,  2.52184303e-01,\n",
       "        -1.74911348e-01, -1.30058398e-01, -8.46996826e-02,\n",
       "        -2.38943545e-01, -2.73638528e-01,  4.84925649e-02,\n",
       "         7.52105598e-02,  9.67065418e-02,  1.07539394e-01,\n",
       "        -1.30185493e-02,  2.40886256e-02,  1.00070370e-01,\n",
       "        -1.16283002e-01, -3.43182341e-01,  6.30527573e-02,\n",
       "         3.26615662e-01, -4.25455471e-02,  1.36760254e-02,\n",
       "        -2.23653956e-02, -4.27010267e-02,  3.47006187e-02,\n",
       "        -2.14926901e-01,  2.14926901e-01,  3.77711428e-02,\n",
       "         2.04645089e-02, -4.92599421e-02, -7.85909282e-02,\n",
       "         9.58173910e-03, -3.66068689e-02, -6.50287982e-03,\n",
       "        -3.52814180e-02,  1.38410670e-02,  3.30371645e-02,\n",
       "         3.98303776e-02, -1.39600803e-02, -2.68410680e-02,\n",
       "        -4.12597122e-03, -2.90857858e-02, -8.97834671e-02,\n",
       "         5.61167415e-03,  4.72877332e-03, -7.55046398e-03,\n",
       "        -1.95958621e-02,  1.66935996e-02,  4.01984675e-02,\n",
       "         2.47233788e-02,  2.46963898e-02, -1.86046570e-02,\n",
       "        -9.24138208e-02, -2.58162933e-02, -1.06315319e-01,\n",
       "        -1.03375772e-02,  3.94418653e-02,  1.12511886e-02,\n",
       "        -3.50509108e-03, -3.12371424e-02,  3.93664413e-03,\n",
       "        -3.49079643e-02,  4.85038302e-03, -8.31329344e-03,\n",
       "        -9.84855786e-04,  7.38499076e-02, -4.44672673e-02,\n",
       "         2.66627193e-02]])"
      ]
     },
     "execution_count": 46,
     "metadata": {},
     "output_type": "execute_result"
    }
   ],
   "source": [
    "log_model.coef_"
   ]
  },
  {
   "cell_type": "code",
   "execution_count": 47,
   "metadata": {},
   "outputs": [
    {
     "data": {
      "text/plain": [
       "array([-2.08516891])"
      ]
     },
     "execution_count": 47,
     "metadata": {},
     "output_type": "execute_result"
    }
   ],
   "source": [
    "log_model.intercept_"
   ]
  },
  {
   "cell_type": "code",
   "execution_count": 48,
   "metadata": {},
   "outputs": [],
   "source": [
    "parameters={'penalty':['l1', 'l2', 'elasticnet'],'C':[1,2,3,4,5,6,10,20,30,40,50],'max_iter':[100,200,300,400,500]}"
   ]
  },
  {
   "cell_type": "code",
   "execution_count": 49,
   "metadata": {},
   "outputs": [],
   "source": [
    "model_logistic=GridSearchCV(log_model,param_grid=parameters,scoring='accuracy',cv=5)"
   ]
  },
  {
   "cell_type": "code",
   "execution_count": 50,
   "metadata": {},
   "outputs": [
    {
     "data": {
      "text/html": [
       "<style>#sk-container-id-3 {color: black;background-color: white;}#sk-container-id-3 pre{padding: 0;}#sk-container-id-3 div.sk-toggleable {background-color: white;}#sk-container-id-3 label.sk-toggleable__label {cursor: pointer;display: block;width: 100%;margin-bottom: 0;padding: 0.3em;box-sizing: border-box;text-align: center;}#sk-container-id-3 label.sk-toggleable__label-arrow:before {content: \"▸\";float: left;margin-right: 0.25em;color: #696969;}#sk-container-id-3 label.sk-toggleable__label-arrow:hover:before {color: black;}#sk-container-id-3 div.sk-estimator:hover label.sk-toggleable__label-arrow:before {color: black;}#sk-container-id-3 div.sk-toggleable__content {max-height: 0;max-width: 0;overflow: hidden;text-align: left;background-color: #f0f8ff;}#sk-container-id-3 div.sk-toggleable__content pre {margin: 0.2em;color: black;border-radius: 0.25em;background-color: #f0f8ff;}#sk-container-id-3 input.sk-toggleable__control:checked~div.sk-toggleable__content {max-height: 200px;max-width: 100%;overflow: auto;}#sk-container-id-3 input.sk-toggleable__control:checked~label.sk-toggleable__label-arrow:before {content: \"▾\";}#sk-container-id-3 div.sk-estimator input.sk-toggleable__control:checked~label.sk-toggleable__label {background-color: #d4ebff;}#sk-container-id-3 div.sk-label input.sk-toggleable__control:checked~label.sk-toggleable__label {background-color: #d4ebff;}#sk-container-id-3 input.sk-hidden--visually {border: 0;clip: rect(1px 1px 1px 1px);clip: rect(1px, 1px, 1px, 1px);height: 1px;margin: -1px;overflow: hidden;padding: 0;position: absolute;width: 1px;}#sk-container-id-3 div.sk-estimator {font-family: monospace;background-color: #f0f8ff;border: 1px dotted black;border-radius: 0.25em;box-sizing: border-box;margin-bottom: 0.5em;}#sk-container-id-3 div.sk-estimator:hover {background-color: #d4ebff;}#sk-container-id-3 div.sk-parallel-item::after {content: \"\";width: 100%;border-bottom: 1px solid gray;flex-grow: 1;}#sk-container-id-3 div.sk-label:hover label.sk-toggleable__label {background-color: #d4ebff;}#sk-container-id-3 div.sk-serial::before {content: \"\";position: absolute;border-left: 1px solid gray;box-sizing: border-box;top: 0;bottom: 0;left: 50%;z-index: 0;}#sk-container-id-3 div.sk-serial {display: flex;flex-direction: column;align-items: center;background-color: white;padding-right: 0.2em;padding-left: 0.2em;position: relative;}#sk-container-id-3 div.sk-item {position: relative;z-index: 1;}#sk-container-id-3 div.sk-parallel {display: flex;align-items: stretch;justify-content: center;background-color: white;position: relative;}#sk-container-id-3 div.sk-item::before, #sk-container-id-3 div.sk-parallel-item::before {content: \"\";position: absolute;border-left: 1px solid gray;box-sizing: border-box;top: 0;bottom: 0;left: 50%;z-index: -1;}#sk-container-id-3 div.sk-parallel-item {display: flex;flex-direction: column;z-index: 1;position: relative;background-color: white;}#sk-container-id-3 div.sk-parallel-item:first-child::after {align-self: flex-end;width: 50%;}#sk-container-id-3 div.sk-parallel-item:last-child::after {align-self: flex-start;width: 50%;}#sk-container-id-3 div.sk-parallel-item:only-child::after {width: 0;}#sk-container-id-3 div.sk-dashed-wrapped {border: 1px dashed gray;margin: 0 0.4em 0.5em 0.4em;box-sizing: border-box;padding-bottom: 0.4em;background-color: white;}#sk-container-id-3 div.sk-label label {font-family: monospace;font-weight: bold;display: inline-block;line-height: 1.2em;}#sk-container-id-3 div.sk-label-container {text-align: center;}#sk-container-id-3 div.sk-container {/* jupyter's `normalize.less` sets `[hidden] { display: none; }` but bootstrap.min.css set `[hidden] { display: none !important; }` so we also need the `!important` here to be able to override the default hidden behavior on the sphinx rendered scikit-learn.org. See: https://github.com/scikit-learn/scikit-learn/issues/21755 */display: inline-block !important;position: relative;}#sk-container-id-3 div.sk-text-repr-fallback {display: none;}</style><div id=\"sk-container-id-3\" class=\"sk-top-container\"><div class=\"sk-text-repr-fallback\"><pre>GridSearchCV(cv=5, estimator=LogisticRegression(),\n",
       "             param_grid={&#x27;C&#x27;: [1, 2, 3, 4, 5, 6, 10, 20, 30, 40, 50],\n",
       "                         &#x27;max_iter&#x27;: [100, 200, 300, 400, 500],\n",
       "                         &#x27;penalty&#x27;: [&#x27;l1&#x27;, &#x27;l2&#x27;, &#x27;elasticnet&#x27;]},\n",
       "             scoring=&#x27;accuracy&#x27;)</pre><b>In a Jupyter environment, please rerun this cell to show the HTML representation or trust the notebook. <br />On GitHub, the HTML representation is unable to render, please try loading this page with nbviewer.org.</b></div><div class=\"sk-container\" hidden><div class=\"sk-item sk-dashed-wrapped\"><div class=\"sk-label-container\"><div class=\"sk-label sk-toggleable\"><input class=\"sk-toggleable__control sk-hidden--visually\" id=\"sk-estimator-id-3\" type=\"checkbox\" ><label for=\"sk-estimator-id-3\" class=\"sk-toggleable__label sk-toggleable__label-arrow\">GridSearchCV</label><div class=\"sk-toggleable__content\"><pre>GridSearchCV(cv=5, estimator=LogisticRegression(),\n",
       "             param_grid={&#x27;C&#x27;: [1, 2, 3, 4, 5, 6, 10, 20, 30, 40, 50],\n",
       "                         &#x27;max_iter&#x27;: [100, 200, 300, 400, 500],\n",
       "                         &#x27;penalty&#x27;: [&#x27;l1&#x27;, &#x27;l2&#x27;, &#x27;elasticnet&#x27;]},\n",
       "             scoring=&#x27;accuracy&#x27;)</pre></div></div></div><div class=\"sk-parallel\"><div class=\"sk-parallel-item\"><div class=\"sk-item\"><div class=\"sk-label-container\"><div class=\"sk-label sk-toggleable\"><input class=\"sk-toggleable__control sk-hidden--visually\" id=\"sk-estimator-id-4\" type=\"checkbox\" ><label for=\"sk-estimator-id-4\" class=\"sk-toggleable__label sk-toggleable__label-arrow\">estimator: LogisticRegression</label><div class=\"sk-toggleable__content\"><pre>LogisticRegression()</pre></div></div></div><div class=\"sk-serial\"><div class=\"sk-item\"><div class=\"sk-estimator sk-toggleable\"><input class=\"sk-toggleable__control sk-hidden--visually\" id=\"sk-estimator-id-5\" type=\"checkbox\" ><label for=\"sk-estimator-id-5\" class=\"sk-toggleable__label sk-toggleable__label-arrow\">LogisticRegression</label><div class=\"sk-toggleable__content\"><pre>LogisticRegression()</pre></div></div></div></div></div></div></div></div></div></div>"
      ],
      "text/plain": [
       "GridSearchCV(cv=5, estimator=LogisticRegression(),\n",
       "             param_grid={'C': [1, 2, 3, 4, 5, 6, 10, 20, 30, 40, 50],\n",
       "                         'max_iter': [100, 200, 300, 400, 500],\n",
       "                         'penalty': ['l1', 'l2', 'elasticnet']},\n",
       "             scoring='accuracy')"
      ]
     },
     "execution_count": 50,
     "metadata": {},
     "output_type": "execute_result"
    }
   ],
   "source": [
    "model_logistic.fit(X_train,y_train)"
   ]
  },
  {
   "cell_type": "code",
   "execution_count": 51,
   "metadata": {},
   "outputs": [
    {
     "data": {
      "text/plain": [
       "{'C': 5, 'max_iter': 100, 'penalty': 'l2'}"
      ]
     },
     "execution_count": 51,
     "metadata": {},
     "output_type": "execute_result"
    }
   ],
   "source": [
    "model_logistic.best_params_"
   ]
  },
  {
   "cell_type": "code",
   "execution_count": 52,
   "metadata": {},
   "outputs": [
    {
     "name": "stdout",
     "output_type": "stream",
     "text": [
      "0.8500548847420417\n"
     ]
    }
   ],
   "source": [
    "print(model_logistic.best_score_)"
   ]
  },
  {
   "cell_type": "code",
   "execution_count": 53,
   "metadata": {},
   "outputs": [],
   "source": [
    "param_grid={\n",
    "    'max_depth':[3,4,5,6],\n",
    "    'min_samples_split':[2,3,4,5],\n",
    "    'min_samples_leaf':[1,2,3]\n",
    "}"
   ]
  },
  {
   "cell_type": "code",
   "execution_count": 54,
   "metadata": {},
   "outputs": [],
   "source": [
    "decisiontree_model=GridSearchCV(dec_model,param_grid=param_grid,cv=5)"
   ]
  },
  {
   "cell_type": "code",
   "execution_count": 55,
   "metadata": {},
   "outputs": [
    {
     "data": {
      "text/html": [
       "<style>#sk-container-id-4 {color: black;background-color: white;}#sk-container-id-4 pre{padding: 0;}#sk-container-id-4 div.sk-toggleable {background-color: white;}#sk-container-id-4 label.sk-toggleable__label {cursor: pointer;display: block;width: 100%;margin-bottom: 0;padding: 0.3em;box-sizing: border-box;text-align: center;}#sk-container-id-4 label.sk-toggleable__label-arrow:before {content: \"▸\";float: left;margin-right: 0.25em;color: #696969;}#sk-container-id-4 label.sk-toggleable__label-arrow:hover:before {color: black;}#sk-container-id-4 div.sk-estimator:hover label.sk-toggleable__label-arrow:before {color: black;}#sk-container-id-4 div.sk-toggleable__content {max-height: 0;max-width: 0;overflow: hidden;text-align: left;background-color: #f0f8ff;}#sk-container-id-4 div.sk-toggleable__content pre {margin: 0.2em;color: black;border-radius: 0.25em;background-color: #f0f8ff;}#sk-container-id-4 input.sk-toggleable__control:checked~div.sk-toggleable__content {max-height: 200px;max-width: 100%;overflow: auto;}#sk-container-id-4 input.sk-toggleable__control:checked~label.sk-toggleable__label-arrow:before {content: \"▾\";}#sk-container-id-4 div.sk-estimator input.sk-toggleable__control:checked~label.sk-toggleable__label {background-color: #d4ebff;}#sk-container-id-4 div.sk-label input.sk-toggleable__control:checked~label.sk-toggleable__label {background-color: #d4ebff;}#sk-container-id-4 input.sk-hidden--visually {border: 0;clip: rect(1px 1px 1px 1px);clip: rect(1px, 1px, 1px, 1px);height: 1px;margin: -1px;overflow: hidden;padding: 0;position: absolute;width: 1px;}#sk-container-id-4 div.sk-estimator {font-family: monospace;background-color: #f0f8ff;border: 1px dotted black;border-radius: 0.25em;box-sizing: border-box;margin-bottom: 0.5em;}#sk-container-id-4 div.sk-estimator:hover {background-color: #d4ebff;}#sk-container-id-4 div.sk-parallel-item::after {content: \"\";width: 100%;border-bottom: 1px solid gray;flex-grow: 1;}#sk-container-id-4 div.sk-label:hover label.sk-toggleable__label {background-color: #d4ebff;}#sk-container-id-4 div.sk-serial::before {content: \"\";position: absolute;border-left: 1px solid gray;box-sizing: border-box;top: 0;bottom: 0;left: 50%;z-index: 0;}#sk-container-id-4 div.sk-serial {display: flex;flex-direction: column;align-items: center;background-color: white;padding-right: 0.2em;padding-left: 0.2em;position: relative;}#sk-container-id-4 div.sk-item {position: relative;z-index: 1;}#sk-container-id-4 div.sk-parallel {display: flex;align-items: stretch;justify-content: center;background-color: white;position: relative;}#sk-container-id-4 div.sk-item::before, #sk-container-id-4 div.sk-parallel-item::before {content: \"\";position: absolute;border-left: 1px solid gray;box-sizing: border-box;top: 0;bottom: 0;left: 50%;z-index: -1;}#sk-container-id-4 div.sk-parallel-item {display: flex;flex-direction: column;z-index: 1;position: relative;background-color: white;}#sk-container-id-4 div.sk-parallel-item:first-child::after {align-self: flex-end;width: 50%;}#sk-container-id-4 div.sk-parallel-item:last-child::after {align-self: flex-start;width: 50%;}#sk-container-id-4 div.sk-parallel-item:only-child::after {width: 0;}#sk-container-id-4 div.sk-dashed-wrapped {border: 1px dashed gray;margin: 0 0.4em 0.5em 0.4em;box-sizing: border-box;padding-bottom: 0.4em;background-color: white;}#sk-container-id-4 div.sk-label label {font-family: monospace;font-weight: bold;display: inline-block;line-height: 1.2em;}#sk-container-id-4 div.sk-label-container {text-align: center;}#sk-container-id-4 div.sk-container {/* jupyter's `normalize.less` sets `[hidden] { display: none; }` but bootstrap.min.css set `[hidden] { display: none !important; }` so we also need the `!important` here to be able to override the default hidden behavior on the sphinx rendered scikit-learn.org. See: https://github.com/scikit-learn/scikit-learn/issues/21755 */display: inline-block !important;position: relative;}#sk-container-id-4 div.sk-text-repr-fallback {display: none;}</style><div id=\"sk-container-id-4\" class=\"sk-top-container\"><div class=\"sk-text-repr-fallback\"><pre>GridSearchCV(cv=5, estimator=DecisionTreeClassifier(),\n",
       "             param_grid={&#x27;max_depth&#x27;: [3, 4, 5, 6],\n",
       "                         &#x27;min_samples_leaf&#x27;: [1, 2, 3],\n",
       "                         &#x27;min_samples_split&#x27;: [2, 3, 4, 5]})</pre><b>In a Jupyter environment, please rerun this cell to show the HTML representation or trust the notebook. <br />On GitHub, the HTML representation is unable to render, please try loading this page with nbviewer.org.</b></div><div class=\"sk-container\" hidden><div class=\"sk-item sk-dashed-wrapped\"><div class=\"sk-label-container\"><div class=\"sk-label sk-toggleable\"><input class=\"sk-toggleable__control sk-hidden--visually\" id=\"sk-estimator-id-6\" type=\"checkbox\" ><label for=\"sk-estimator-id-6\" class=\"sk-toggleable__label sk-toggleable__label-arrow\">GridSearchCV</label><div class=\"sk-toggleable__content\"><pre>GridSearchCV(cv=5, estimator=DecisionTreeClassifier(),\n",
       "             param_grid={&#x27;max_depth&#x27;: [3, 4, 5, 6],\n",
       "                         &#x27;min_samples_leaf&#x27;: [1, 2, 3],\n",
       "                         &#x27;min_samples_split&#x27;: [2, 3, 4, 5]})</pre></div></div></div><div class=\"sk-parallel\"><div class=\"sk-parallel-item\"><div class=\"sk-item\"><div class=\"sk-label-container\"><div class=\"sk-label sk-toggleable\"><input class=\"sk-toggleable__control sk-hidden--visually\" id=\"sk-estimator-id-7\" type=\"checkbox\" ><label for=\"sk-estimator-id-7\" class=\"sk-toggleable__label sk-toggleable__label-arrow\">estimator: DecisionTreeClassifier</label><div class=\"sk-toggleable__content\"><pre>DecisionTreeClassifier()</pre></div></div></div><div class=\"sk-serial\"><div class=\"sk-item\"><div class=\"sk-estimator sk-toggleable\"><input class=\"sk-toggleable__control sk-hidden--visually\" id=\"sk-estimator-id-8\" type=\"checkbox\" ><label for=\"sk-estimator-id-8\" class=\"sk-toggleable__label sk-toggleable__label-arrow\">DecisionTreeClassifier</label><div class=\"sk-toggleable__content\"><pre>DecisionTreeClassifier()</pre></div></div></div></div></div></div></div></div></div></div>"
      ],
      "text/plain": [
       "GridSearchCV(cv=5, estimator=DecisionTreeClassifier(),\n",
       "             param_grid={'max_depth': [3, 4, 5, 6],\n",
       "                         'min_samples_leaf': [1, 2, 3],\n",
       "                         'min_samples_split': [2, 3, 4, 5]})"
      ]
     },
     "execution_count": 55,
     "metadata": {},
     "output_type": "execute_result"
    }
   ],
   "source": [
    "decisiontree_model.fit(X_train,y_train)"
   ]
  },
  {
   "cell_type": "code",
   "execution_count": 56,
   "metadata": {},
   "outputs": [
    {
     "data": {
      "text/plain": [
       "{'max_depth': 6, 'min_samples_leaf': 2, 'min_samples_split': 4}"
      ]
     },
     "execution_count": 56,
     "metadata": {},
     "output_type": "execute_result"
    }
   ],
   "source": [
    "decisiontree_model.best_params_"
   ]
  },
  {
   "cell_type": "code",
   "execution_count": 57,
   "metadata": {},
   "outputs": [
    {
     "name": "stdout",
     "output_type": "stream",
     "text": [
      "0.8541383095499452\n"
     ]
    }
   ],
   "source": [
    "print(decisiontree_model.best_score_)"
   ]
  },
  {
   "cell_type": "code",
   "execution_count": 58,
   "metadata": {},
   "outputs": [],
   "source": [
    "import numpy as np\n",
    "def model_evalute(true,predicted):\n",
    "     acc_score=accuracy_score(true,predicted)\n",
    "     logloss=log_loss(true,predicted)\n",
    "     classification_Report=classification_report(true,predicted)\n",
    "     Confusion_Matrix=confusion_matrix(true,predicted)\n",
    "     return acc_score,logloss,classification_Report,Confusion_Matrix"
   ]
  },
  {
   "cell_type": "code",
   "execution_count": 59,
   "metadata": {},
   "outputs": [
    {
     "name": "stdout",
     "output_type": "stream",
     "text": [
      "LogisticRegression\n",
      "Model Training Performance\n",
      "Accuracy Score 85.24892440073756\n",
      "Log Loss 5.316826560164792\n",
      "Classification Report \n",
      "               precision    recall  f1-score   support\n",
      "\n",
      "           0       0.88      0.93      0.91      7405\n",
      "           1       0.74      0.61      0.67      2357\n",
      "\n",
      "    accuracy                           0.85      9762\n",
      "   macro avg       0.81      0.77      0.79      9762\n",
      "weighted avg       0.85      0.85      0.85      9762\n",
      "\n",
      "Confusion Matrix \n",
      " [[6889  516]\n",
      " [ 924 1433]]\n",
      "===================================\n",
      "\n",
      "\n",
      "DecisionTreeClassifier\n",
      "Model Training Performance\n",
      "Accuracy Score 85.49477566072527\n",
      "Log Loss 5.2282127841620465\n",
      "Classification Report \n",
      "               precision    recall  f1-score   support\n",
      "\n",
      "           0       0.87      0.95      0.91      7405\n",
      "           1       0.79      0.55      0.65      2357\n",
      "\n",
      "    accuracy                           0.85      9762\n",
      "   macro avg       0.83      0.75      0.78      9762\n",
      "weighted avg       0.85      0.85      0.85      9762\n",
      "\n",
      "Confusion Matrix \n",
      " [[7058  347]\n",
      " [1069 1288]]\n",
      "===================================\n",
      "\n",
      "\n"
     ]
    }
   ],
   "source": [
    "# Train Multiple Models\n",
    "\n",
    "models={\n",
    "\n",
    "    'LogisticRegression':LogisticRegression(random_state=42),\n",
    "    'DecisionTreeClassifier':DecisionTreeClassifier(max_depth=6, min_samples_leaf=3, min_samples_split=5,random_state=42)\n",
    "    \n",
    "}\n",
    "\n",
    "model_list=[]\n",
    "acc_score_list=[]\n",
    "\n",
    "for i in range(len(list(models))):\n",
    "    model=list(models.values())[i]\n",
    "    model.fit(X_train,y_train)\n",
    "\n",
    "    # Make Predictions\n",
    "    y_pred=model.predict(X_test)\n",
    "\n",
    "    acc_score,logloss,classification_Report,Confusion_Matrix=model_evalute(y_test,y_pred)\n",
    "\n",
    "    print(list(models.keys())[i])\n",
    "    model_list.append(list(models.keys())[i])\n",
    "\n",
    "    print('Model Training Performance')\n",
    "    print('Accuracy Score',acc_score*100)\n",
    "    print('Log Loss',logloss)\n",
    "    print('Classification Report',\"\\n\",\n",
    "          classification_Report)\n",
    "    print('Confusion Matrix','\\n',\n",
    "          Confusion_Matrix)\n",
    "    print(\"=\"*35)\n",
    "    print('\\n')\n",
    "\n",
    "    acc_score_list.append(acc_score)\n",
    " "
   ]
  },
  {
   "cell_type": "code",
   "execution_count": 60,
   "metadata": {},
   "outputs": [
    {
     "data": {
      "text/plain": [
       "['LogisticRegression', 'DecisionTreeClassifier']"
      ]
     },
     "execution_count": 60,
     "metadata": {},
     "output_type": "execute_result"
    }
   ],
   "source": [
    "model_list"
   ]
  },
  {
   "cell_type": "code",
   "execution_count": 61,
   "metadata": {},
   "outputs": [
    {
     "data": {
      "text/plain": [
       "[0.8524892440073756, 0.8549477566072526]"
      ]
     },
     "execution_count": 61,
     "metadata": {},
     "output_type": "execute_result"
    }
   ],
   "source": [
    "acc_score_list"
   ]
  },
  {
   "cell_type": "code",
   "execution_count": null,
   "metadata": {},
   "outputs": [],
   "source": []
  }
 ],
 "metadata": {
  "kernelspec": {
   "display_name": "Python 3",
   "language": "python",
   "name": "python3"
  },
  "language_info": {
   "codemirror_mode": {
    "name": "ipython",
    "version": 3
   },
   "file_extension": ".py",
   "mimetype": "text/x-python",
   "name": "python",
   "nbconvert_exporter": "python",
   "pygments_lexer": "ipython3",
   "version": "3.8.0"
  },
  "orig_nbformat": 4
 },
 "nbformat": 4,
 "nbformat_minor": 2
}
